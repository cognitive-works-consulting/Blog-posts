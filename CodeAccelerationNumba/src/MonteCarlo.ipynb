{
 "cells": [
  {
   "cell_type": "markdown",
   "id": "24956526-b708-480c-b5e4-5c0208957a3f",
   "metadata": {},
   "source": [
    "*Tutorial based on: https://pyquantnews.com/quickly-compute-value-at-risk-with-monte-carlo/*"
   ]
  },
  {
   "cell_type": "code",
   "execution_count": 1,
   "id": "9787ee27-d5e8-4f7f-989e-9b6464585cbb",
   "metadata": {},
   "outputs": [
    {
     "name": "stderr",
     "output_type": "stream",
     "text": [
      "C:\\Users\\migue\\AppData\\Local\\Temp\\ipykernel_34792\\990580201.py:4: DeprecationWarning: \n",
      "Pyarrow will become a required dependency of pandas in the next major release of pandas (pandas 3.0),\n",
      "(to allow more performant data types, such as the Arrow string type, and better interoperability with other libraries)\n",
      "but was not found to be installed on your system.\n",
      "If this would cause problems for you,\n",
      "please provide us feedback at https://github.com/pandas-dev/pandas/issues/54466\n",
      "        \n",
      "  import pandas as pd\n"
     ]
    }
   ],
   "source": [
    "import matplotlib.pyplot as plt\n",
    "import numba as nb\n",
    "import numpy as np\n",
    "import pandas as pd\n",
    "import time\n",
    "from openbb import obb"
   ]
  },
  {
   "cell_type": "code",
   "execution_count": 2,
   "id": "812b5227-c26c-4776-bf21-9715aac70d62",
   "metadata": {},
   "outputs": [],
   "source": [
    "sectors = [\n",
    "    \"XLE\",\n",
    "    \"XLF\",\n",
    "    \"XLU\",\n",
    "    \"XLI\",\n",
    "    \"GDX\",\n",
    "    \"XLK\",\n",
    "    \"XLV\", \n",
    "    \"XLY\", \n",
    "    \"XLP\", \n",
    "    \"XLB\", \n",
    "    \"XOP\", \n",
    "    \"IYR\", \n",
    "    \"XHB\", \n",
    "    \"ITB\", \n",
    "    \"VNQ\", \n",
    "    \"GDXJ\", \n",
    "    \"IYE\", \n",
    "    \"OIH\", \n",
    "    \"XME\", \n",
    "    \"XRT\", \n",
    "    \"SMH\", \n",
    "    \"IBB\", \n",
    "    \"KBE\", \n",
    "    \"KRE\", \n",
    "    \"XTL\",]\n",
    "\n",
    "data = obb.equity.price.historical(\n",
    "    sectors,\n",
    "    start_date=\"2010-01-01\",\n",
    "    provider=\"yfinance\").to_df()\n",
    "    \n",
    "data[\"returns\"] = data.groupby(\"symbol\").close.pct_change()\n",
    "portfolio_stats = data.groupby(\"symbol\").agg(daily_returns=(\"returns\", \"mean\"))\n",
    "    \n",
    "portfolio_stats[\"weights\"] = 1 / len(sectors)\n",
    "    \n",
    "covariance_matrix = (\n",
    "    data\n",
    "    .pivot(\n",
    "        columns=\"symbol\", \n",
    "        values=\"returns\")\n",
    "    .dropna()\n",
    "    .cov())\n",
    "\n",
    "simulations = 1_000_000\n",
    "days = len(data.index.unique())\n",
    "initial_capital = 100_000\n",
    "\n",
    "historical_returns = np.full(\n",
    "    shape=(days, len(sectors)), \n",
    "    fill_value=portfolio_stats.daily_returns)"
   ]
  },
  {
   "cell_type": "code",
   "execution_count": 3,
   "id": "3af6fef3-6a4b-4f8c-b06d-3d01b33c3392",
   "metadata": {},
   "outputs": [],
   "source": [
    "def montecarlo_var(alpha):\n",
    "    sim_val = simulated_portfolio.iloc[-1, :]\n",
    "    return np.percentile(sim_val, alpha)\n",
    "\n",
    "def conditional_var(alpha):\n",
    "    sim_val = simulated_portfolio.iloc[-1, :]\n",
    "    return sim_val[sim_val <= montecarlo_var(alpha)].mean()\n",
    "\n",
    "def simulate(L, portfolio_stats, historical_returns):\n",
    "    portfolio = np.zeros((days, simulations))\n",
    "    for i in range(0, simulations):\n",
    "        Z = np.random.normal(size=(days, len(sectors)))\n",
    "        daily_returns = historical_returns + np.dot(L, Z.T).T\n",
    "        portfolio[:, i] = (\n",
    "            np.cumprod(np.dot(daily_returns, portfolio_stats.weights) + 1) * initial_capital\n",
    "        )\n",
    "    return pd.DataFrame(portfolio)"
   ]
  },
  {
   "cell_type": "code",
   "execution_count": 4,
   "id": "690cfe4b-fdac-43b7-877e-32666ba51ae8",
   "metadata": {},
   "outputs": [],
   "source": [
    "L = np.linalg.cholesky(covariance_matrix)"
   ]
  },
  {
   "cell_type": "code",
   "execution_count": 5,
   "id": "2035ab6d-ca9a-4f76-a0d3-02134467f53a",
   "metadata": {},
   "outputs": [
    {
     "name": "stdout",
     "output_type": "stream",
     "text": [
      "--- 4988.71017575264 seconds ---\n"
     ]
    }
   ],
   "source": [
    "start = time.time()\n",
    "simulated_portfolio = simulate(L, portfolio_stats, historical_returns)\n",
    "end = time.time()\n",
    "print(\"--- %s seconds ---\" % (end - start))"
   ]
  },
  {
   "cell_type": "raw",
   "id": "e80f51ab-b953-45c9-b3ff-bb84c7f5161c",
   "metadata": {},
   "source": [
    "alpha = 5\n",
    "    \n",
    "mc_var = montecarlo_var(alpha)\n",
    "cond_var = conditional_var(alpha)\n",
    "ax = simulated_portfolio.plot(lw=0.25, legend=False)\n",
    "ax.axhline(mc_var, lw=0.5, c=\"r\")\n",
    "ax.axhline(cond_var, lw=0.5, c=\"g\")\n",
    "plt.show()"
   ]
  },
  {
   "cell_type": "code",
   "execution_count": 6,
   "id": "5d946c75-de2c-4ec7-a578-783b82a3deb0",
   "metadata": {},
   "outputs": [],
   "source": [
    "@nb.jit(parallel=True)\n",
    "def simulate_with_numba(sectors, L, weights, historical_returns):\n",
    "    portfolio = np.zeros((days, simulations))\n",
    "    n_sectors = len(sectors)\n",
    "    for i in nb.prange(0, simulations):\n",
    "        Z = np.zeros((days, n_sectors))\n",
    "        for d in nb.prange(0, days):\n",
    "            for s in nb.prange(0, n_sectors):\n",
    "                Z[d, s] = np.random.normal()\n",
    "        daily_returns = historical_returns + np.dot(L, Z.T).T\n",
    "        portfolio[:, i] = (\n",
    "            np.cumprod(np.dot(daily_returns, weights) + 1) * initial_capital\n",
    "        )\n",
    "    return portfolio"
   ]
  },
  {
   "cell_type": "code",
   "execution_count": 7,
   "id": "42ea72c2-d0c3-49c7-8f35-0f5b49f1ba15",
   "metadata": {},
   "outputs": [
    {
     "name": "stdout",
     "output_type": "stream",
     "text": [
      "--- 1032.0892622470856 seconds ---\n"
     ]
    }
   ],
   "source": [
    "start = time.time()\n",
    "simulated_portfolio = simulate_with_numba(sectors, L, portfolio_stats.weights.to_numpy(), historical_returns)\n",
    "simulated_portfolio = pd.DataFrame(simulated_portfolio)\n",
    "end = time.time()\n",
    "print(\"--- %s seconds ---\" % (end - start))"
   ]
  },
  {
   "cell_type": "raw",
   "id": "d10a5a99-b347-4e1c-8e57-3791bf2d7ad4",
   "metadata": {},
   "source": [
    "mc_var = montecarlo_var(alpha)\n",
    "cond_var = conditional_var(alpha)\n",
    "ax = simulated_portfolio.plot(lw=0.25, legend=False)\n",
    "ax.axhline(mc_var, lw=0.5, c=\"r\")\n",
    "ax.axhline(cond_var, lw=0.5, c=\"g\")\n",
    "plt.show()"
   ]
  },
  {
   "cell_type": "code",
   "execution_count": 8,
   "id": "084ca92b-c01b-4c82-bce6-771d6bf2f16d",
   "metadata": {},
   "outputs": [],
   "source": [
    "@nb.njit(parallel=True)\n",
    "def simulate_with_numba_compiled(sectors, L, weights, historical_returns):\n",
    "    portfolio = np.zeros((days, simulations))\n",
    "    n_sectors = len(sectors)\n",
    "    for i in nb.prange(0, simulations):\n",
    "        Z = np.zeros((days, n_sectors))\n",
    "        for d in nb.prange(0, days):\n",
    "            for s in nb.prange(0, n_sectors):\n",
    "                Z[d, s] = np.random.normal()\n",
    "        daily_returns = historical_returns + np.dot(L, Z.T).T\n",
    "        portfolio[:, i] = (\n",
    "            np.cumprod(np.dot(daily_returns, weights) + 1) * initial_capital\n",
    "        )\n",
    "    return portfolio"
   ]
  },
  {
   "cell_type": "code",
   "execution_count": 9,
   "id": "158972f9-71c1-49d0-b88e-e3556b7721b5",
   "metadata": {},
   "outputs": [
    {
     "name": "stdout",
     "output_type": "stream",
     "text": [
      "--- 966.0735986232758 seconds ---\n"
     ]
    }
   ],
   "source": [
    "start = time.time()\n",
    "simulated_portfolio = simulate_with_numba_compiled(sectors, L, portfolio_stats.weights.to_numpy(), historical_returns)\n",
    "simulated_portfolio = pd.DataFrame(simulated_portfolio)\n",
    "end = time.time()\n",
    "print(\"--- %s seconds ---\" % (end - start))"
   ]
  },
  {
   "cell_type": "raw",
   "id": "58d59567-18d1-46b4-b7de-d5c0731aa0b0",
   "metadata": {},
   "source": [
    "mc_var = montecarlo_var(alpha)\n",
    "cond_var = conditional_var(alpha)\n",
    "ax = simulated_portfolio.plot(lw=0.25, legend=False)\n",
    "ax.axhline(mc_var, lw=0.5, c=\"r\")\n",
    "ax.axhline(cond_var, lw=0.5, c=\"g\")\n",
    "plt.show()"
   ]
  }
 ],
 "metadata": {
  "kernelspec": {
   "display_name": "Python 3 (ipykernel)",
   "language": "python",
   "name": "python3"
  },
  "language_info": {
   "codemirror_mode": {
    "name": "ipython",
    "version": 3
   },
   "file_extension": ".py",
   "mimetype": "text/x-python",
   "name": "python",
   "nbconvert_exporter": "python",
   "pygments_lexer": "ipython3",
   "version": "3.11.7"
  }
 },
 "nbformat": 4,
 "nbformat_minor": 5
}
